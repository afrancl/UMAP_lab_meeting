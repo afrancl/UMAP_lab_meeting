{
 "cells": [
  {
   "cell_type": "markdown",
   "metadata": {},
   "source": [
    "\n",
    "UMAP as a Feature Extraction Technique for Classification\n",
    "---------------------------------------------------------\n",
    "\n",
    "The following script shows how UMAP can be used as a feature extraction\n",
    "technique to improve the accuracy on a classification task. It also shows\n",
    "how UMAP can be integrated in standard scikit-learn pipelines.\n",
    "\n",
    "The first step is to create a dataset for a classification task, which is\n",
    "performed with the function ``sklearn.datasets.make_classification``. The\n",
    "dataset is then split into a training set and a test set using the\n",
    "``sklearn.model_selection.train_test_split`` function.\n",
    "\n",
    "Second, a linear SVM is fitted on the training set. To choose the best\n",
    "hyperparameters automatically, a gridsearch is performed on the training set.\n",
    "The performance of the model is then evaluated on the test set with the\n",
    "accuracy metric.\n",
    "\n",
    " Third, the previous step is repeated with a slight modification: UMAP is\n",
    " used as a feature extraction technique. This small change results in a\n",
    " substantial improvement compared to the model where raw data is used.\n"
   ]
  },
  {
   "cell_type": "code",
   "execution_count": 1,
   "metadata": {},
   "outputs": [],
   "source": [
    "from sklearn.datasets import make_classification\n",
    "from sklearn.model_selection import train_test_split, GridSearchCV\n",
    "from sklearn.pipeline import Pipeline\n",
    "from sklearn.svm import LinearSVC\n",
    "\n",
    "from umap import UMAP"
   ]
  },
  {
   "cell_type": "code",
   "execution_count": 2,
   "metadata": {},
   "outputs": [],
   "source": [
    "# Make a toy dataset\n",
    "X, y = make_classification(\n",
    "    n_samples=1000,\n",
    "    n_features=300,\n",
    "    n_informative=250,\n",
    "    n_redundant=0,\n",
    "    n_repeated=0,\n",
    "    n_classes=2,\n",
    "    random_state=1212,\n",
    ")\n",
    "\n",
    "# Split the dataset into a training set and a test set\n",
    "X_train, X_test, y_train, y_test = train_test_split(\n",
    "    X, y, test_size=0.2, random_state=42\n",
    ")"
   ]
  },
  {
   "cell_type": "code",
   "execution_count": 3,
   "metadata": {},
   "outputs": [
    {
     "name": "stdout",
     "output_type": "stream",
     "text": [
      "Accuracy on the test set with raw data: 0.755\n"
     ]
    }
   ],
   "source": [
    "# Classification with a linear SVM\n",
    "svc = LinearSVC(dual=False, random_state=123)\n",
    "params_grid = {\"C\": [10 ** k for k in range(-3, 4)]}\n",
    "clf = GridSearchCV(svc, params_grid)\n",
    "clf.fit(X_train, y_train)\n",
    "print(\n",
    "    \"Accuracy on the test set with raw data: {:.3f}\".format(clf.score(X_test, y_test))\n",
    ")"
   ]
  },
  {
   "cell_type": "code",
   "execution_count": 4,
   "metadata": {},
   "outputs": [
    {
     "name": "stdout",
     "output_type": "stream",
     "text": [
      "Accuracy on the test set with UMAP transformation: 0.935\n"
     ]
    }
   ],
   "source": [
    "# Transformation with UMAP followed by classification with a linear SVM\n",
    "umap = UMAP(random_state=456)\n",
    "pipeline = Pipeline([(\"umap\", umap), (\"svc\", svc)])\n",
    "params_grid_pipeline = {\n",
    "    \"umap__n_neighbors\": [5, 20],\n",
    "    \"umap__n_components\": [15, 25, 50],\n",
    "    \"svc__C\": [10 ** k for k in range(-3, 4)],\n",
    "}\n",
    "\n",
    "\n",
    "clf_pipeline = GridSearchCV(pipeline, params_grid_pipeline)\n",
    "clf_pipeline.fit(X_train, y_train)\n",
    "print(\n",
    "    \"Accuracy on the test set with UMAP transformation: {:.3f}\".format(\n",
    "        clf_pipeline.score(X_test, y_test)\n",
    "    )\n",
    ")"
   ]
  },
  {
   "cell_type": "code",
   "execution_count": null,
   "metadata": {},
   "outputs": [],
   "source": []
  }
 ],
 "metadata": {
  "kernelspec": {
   "display_name": "umap_kernel",
   "language": "python",
   "name": "umap_kernel"
  },
  "language_info": {
   "codemirror_mode": {
    "name": "ipython",
    "version": 3
   },
   "file_extension": ".py",
   "mimetype": "text/x-python",
   "name": "python",
   "nbconvert_exporter": "python",
   "pygments_lexer": "ipython3",
   "version": "3.6.10"
  }
 },
 "nbformat": 4,
 "nbformat_minor": 4
}
